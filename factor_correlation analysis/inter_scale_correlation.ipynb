{
 "cells": [
  {
   "cell_type": "code",
   "execution_count": 22,
   "metadata": {},
   "outputs": [],
   "source": [
    "import pandas as pd\n",
    "import re\n",
    "import os\n",
    "import pingouin as pg"
   ]
  },
  {
   "cell_type": "code",
   "execution_count": 29,
   "metadata": {},
   "outputs": [],
   "source": [
    "# Set working directory\n",
    "os.chdir('/Users/nsusser/Desktop/Github/happyDB/')\n",
    "\n",
    "# Load the main data and reverse-coded items\n",
    "results = pd.read_csv('data/filtered_ratings.csv')  \n",
    "\n",
    "reverse_coded_items_df = pd.read_csv('Profiles/reversed_column_names.csv')"
   ]
  },
  {
   "cell_type": "code",
   "execution_count": 24,
   "metadata": {},
   "outputs": [
    {
     "name": "stdout",
     "output_type": "stream",
     "text": [
      "['hmid', 'cleaned_hm', 'PERMA_Accomplishment_the_speaker_felt_they_were_making_progress_towards_accomplishing_their_goals?', 'PERMA_Engagement_the_speaker_became_absorbed_in_what_they_were_doing?', 'PERMA_Positive_Emotion_the_speaker_felt_joyful?', 'PERMA_Negative_emotion_the_speaker_felt_anxious?', 'PERMA_Accomplishment_the_speaker_achieved_the_important_goals_they_set_for_themselves?', 'PERMA_Health_the_speaker_perceived_their_health_positively?', 'PERMA_Meaning_the_speaker_felt_their_life_was_purposeful_and_meaningful?', 'PERMA_Relationships_the_speaker_received_help_and_support_from_others_when_needed?', 'PERMA_Meaning_the_speaker_felt_what_they_did_in_life_was_valuable_and_worthwhile?', 'PERMA_Engagement_the_speaker_felt_excited_and_interested_in_things?', 'PERMA_Lonliness_the_speaker_felt_lonely_in_their_daily_life?', 'PERMA_Health_the_speaker_felt_satisfied_with_their_current_physical_health?', 'PERMA_Positive_Emotion_the_speaker_felt_positive?', 'PERMA_Negative_emotion_the_speaker_felt_angry?', 'PERMA_Accomplishment_the_speaker_was_able_to_handle_their_responsibilities?', 'PERMA_Negative_emotion_the_speaker_felt_sad?', 'PERMA_Engagement_the_speaker_lost_track_of_time_while_doing_something_they_enjoyed?', 'PERMA_Health_the_speaker_perceived_their_health_to_be_better_than_others_of_the_same_age_and_sex?', 'PERMA_Relationships_the_speaker_felt_loved?', 'PERMA_Meaning_the_speaker_felt_they_had_a_sense_of_direction_in_life?', 'PERMA_Relationships_the_speaker_felt_satisfied_with_their_personal_relationships?', 'PERMA_Positive_Emotion_the_speaker_felt_contented?', 'PERMA_Happiness_the_speaker_felt_happy_overall?', 'WBP_Autonomy_the_speaker_felt_free_to_act_on_their_decisions?', 'WBP_Autonomy_the_speaker_felt_free_to_make_their_own_choices?', 'WBP_Autonomy_the_speaker_felt_free_to_decide_for_themselves_how_to_live_their_life?', 'WBP_Clear_Thinking_the_speaker’s_ability_to_think_clearly?', 'WBP_Clear_Thinking_the_speaker_stayed_focused_when_they_needed_to?', 'WBP_Clear_Thinking_the_speaker_was_able_to_concentrate_when_necessary?', 'WBP_Competence_the_speaker_was_competent_and_capable_in_important_activities?', 'WBP_Competence_the_speaker_believes_they_do_most_things_well?', 'WBP_Competence_the_speaker’s_ability_to_perform_well_and_succeed_in_most_things_they_do', 'WBP_Emotional_Stability_the_speaker_did_not_get_upset_easily?', 'WBP_Emotional_Stability_the_speaker_maintained_their_composure?', 'WBP_Emotional_Stability_the_speaker_was_emotionally_balanced_and_even-tempered?', \"WBP_Empathy_the_speaker's_heart_went_out_to_people_who_are_unhappy?\", \"WBP_Empathy_the_speaker_felt_other's_emotions?\", \"WBP_Empathy_other_people's_misfortunes_disturbed_the_speaker_a_great_deal?\", \"WBP_Empathy_the_speaker_easily_got_caught_up_in_other_people's_feelings?\", 'WBP_Engagement_the_speaker_was_really_interested_in_what_they_were_doing?', 'WBP_Engagement_the_speaker_was_engaged_and_interested_in_the_activity?', 'WBP_Engagement_the_speaker_felt_excited_by_what_they_were_doing?', 'WBP_Meaning_the_speaker_found_purpose_and_meaning?', 'WBP_Meaning_the_speaker_felt_a_sense_of_direction?', 'WBP_Meaning_the_speaker_had_a_clear_sense_of_purpose?', 'WBP_Optimism_the_speaker_felt_very_optimistic_in_the_moment?', 'WBP_Optimism_the_speaker_felt_positive_about_their_future?', 'WBP_Optimism_the_speaker_always_feels_optimistic_in_the_moment?', 'WBP_Positive_Emotions_the_speaker_felt_cheerful?', 'WBP_Positive_Emotions_the_speaker_felt_happy?', 'WBP_Positive_Emotions_the_speaker_considered_themselves_happy?', 'WBP_Positive_Relationships_the_speaker_felt_supported_by_people_who_care_about_them?', 'WBP_Positive_Relationships_the_speaker_has_close_and_secure_relationships?', 'WBP_Positive_Relationships_the_speaker_has_people_with_whom_they_can_discuss_intimate_and_personal_matters?', 'WBP_Positive_Relationships_the_speaker_received_help_and_support_from_others_when_they_needed_it?', 'WBP_Prosocial_Behavior_the_speaker_offered_help_to_others?', 'WBP_Prosocial_Behavior_the_speaker_willingly_gave_their_time_to_others_in_need?', 'WBP_Prosocial_Behavior_the_speaker_would_do_almost_anything_they_could_to_assist_if_a_person_needed_help?', 'WBP_Resilience_the_speaker_bounced_back_quickly_after_hard_times?', 'WBP_Resilience_the_speaker_recovered_quickly_from_a_stressful_event?', 'WBP_Resilience_the_speaker_got_over_and_recovered_from_significant_life_difficulties?', 'WBP_Self-Acceptance_the_speaker_accepted_their_flaws_and_inadequacies?', 'WBP_Self-Acceptance_the_speaker_admitted_their_shortcomings_without_shame_or_embarrassment?', 'WBP_Self-Acceptance_the_speaker_saw_their_own_problems_and_shortcomings_without_getting_distressed_by_them?', 'WBP_Self-Acceptance_the_speaker_accepted_who_they_are?', 'WBP_Self-Esteem_the_speaker_felt_they_were_a_person_of_worth?', 'WBP_Self-Esteem_the_speaker_felt_a_lot_of_things_about_themselves_are_good?', 'WBP_Self-Esteem_the_speaker_felt_that_they_have_a_number_of_good_qualities?', 'WBP_Vitality_the_speaker_felt_full_of_energy?', 'WBP_Vitality_the_speaker_felt_energetic?', 'WBP_Vitality_the_speaker_felt_active_and_vigorous?', 'SWLS_LS_the_speaker_felt_their_life_was_close_to_their_ideal?', 'SWLS_LS_the_speaker_felt_the_conditions_of_their_life_were_excellent?', 'SWLS_LS_the_speaker_felt_satisfied_with_their_life?', 'SWLS_LS_the_speaker_felt_they_had_gotten_the_important_things_they_wanted_in_life?', 'SWLS_LS_the_speaker_felt_they_would_change_almost_nothing_if_they_could_live_life_over?', 'PWB_Autonomy_the_speaker_was_not_afraid_to_voice_their_opinions,_even_when_they_were_in_opposition_to_others?', 'PWB_Personal_Growth_the_speaker_was_continuously_in_the_process_of_learning,_changing,_and_growing?', 'PWB_Environmental_Mastery_the_speaker_felt_in_charge_of_the_situation?', 'PWB_Positive_Relations_the_speaker_would_be_described_as_a_giving_person,_willing_to_share_their_time_with_others?', 'PWB_Personal_Growth_the_speaker_was_not_interested_in_expanding_their_horizons?', 'PWB_Purpose_in_Life_the_speaker_enjoyed_making_plans_for_the_future_and_working_to_make_them_a_reality?', 'PWB_Positive_Relations_the_speaker_was_seen_as_loving_and_affectionate?', 'PWB_Self-Acceptance_the_speaker_felt_disappointed_by_their_achievements_in_life?', 'PWB_Purpose_in_Life_the_speaker_lived_one_day_at_a_time_without_much_thought_for_the_future?', 'PWB_Autonomy_the_speaker_worried_about_what_others_thought_of_them?', 'PWB_Self-Acceptance_the_speaker_felt_pleased_with_how_their_life_had_turned_out?', 'PWB_Environmental_Mastery_the_speaker_found_it_difficult_to_arrange_their_life_in_a_satisfying_way?', \"PWB_Autonomy_the_speaker's_decisions_were_not_influenced_by_what_everyone_else_was_doing?\", 'PWB_Personal_Growth_the_speaker_had_given_up_trying_to_make_big_improvements_or_changes_in_their_life?', 'PWB_Environmental_Mastery_the_demands_of_everyday_life_affected_the_speaker_negatively?', 'PWB_Positive_Relations_the_speaker_had_not_experienced_many_warm_and_trusting_relationships_with_others?', 'PWB_Personal_Growth_the_speaker_valued_new_experiences_that_challenge_their_thoughts_about_themselves_and_the_world?', 'PWB_Positive_Relations_the_speaker_found_it_difficult_and_frustrating_to_maintain_close_relationships?', \"PWB_Self-Acceptance_the_speaker's_self-attitude_was_less_positive_than_most_people's?\", 'PWB_Purpose_in_Life_the_speaker_felt_a_sense_of_direction_and_purpose?', \"PWB_Autonomy_the_speaker_judged_themselves_by_their_own_values_rather_than_by_others'_values?\", 'PWB_Self-Acceptance_the_speaker_felt_confident_and_positive_about_themselves?', 'PWB_Environmental_Mastery_the_speaker_had_built_a_living_environment_and_lifestyle_they_liked?', 'PWB_Autonomy_the_speaker_was_influenced_by_people_with_strong_opinions?', 'PWB_Personal_Growth_the_speaker_did_not_enjoy_new_situations_that_required_change_in_familiar_routines?', 'PWB_Environmental_Mastery_the_speaker_felt_they_did_not_fit_well_with_the_people_and_community_around_them?', 'PWB_Positive_Relations_the_speaker_felt_mutual_trust_with_their_friends?', \"PWB_Personal_Growth_the_speaker_felt_they_hadn't_improved_much_as_a_person_over_the_years?\", 'PWB_Purpose_in_Life_the_speaker_felt_they_had_direction_in_life,_unlike_those_who_wander_aimlessly?', 'PWB_Positive_Relations_the_speaker_felt_lonely_due_to_a_lack_of_close_friends_for_sharing_concerns?', 'PWB_Self-Acceptance_the_speaker_felt_good_about_themselves_when_comparing_to_friends_and_acquaintances?', 'PWB_Purpose_in_Life_the_speaker_lacked_a_clear_sense_of_what_they_were_trying_to_accomplish_in_life?', 'PWB_Purpose_in_Life_the_speaker_felt_as_if_they_had_done_all_there_is_to_do_in_life?', 'PWB_Self-Acceptance_the_speaker_felt_others_had_gotten_more_out_of_life_than_they_had?', 'PWB_Autonomy_the_speaker_had_confidence_in_their_opinions,_even_if_contrary_to_the_general_consensus?', 'PWB_Environmental_Mastery_the_speaker_felt_that_they_were_good_at_managing_the_responsibilities_of_daily_life?', 'PWB_Personal_Growth_the_speaker_felt_they_had_developed_significantly_as_a_person_over_time?', 'PWB_Positive_Relations_the_speaker_enjoyed_personal_and_mutual_conversations_with_family_members_and_friends?', 'PWB_Purpose_in_Life_the_speaker_found_their_daily_activities_trivial_and_unimportant?', 'PWB_Self-Acceptance_the_speaker_liked_most_parts_of_their_personality?', 'PWB_Autonomy_the_speaker_found_it_difficult_to_voice_their_opinions_on_controversial_matters?', 'PWB_Environmental_Mastery_the_speaker_felt_overwhelmed_by_their_responsibilities?', 'PANAS_Positive_the_speaker_was_interested?', 'PANAS_Negative_the_speaker_was_distressed?', 'PANAS_Positive_the_speaker_was_excited?', 'PANAS_Negative_the_speaker_was_upset?', 'PANAS_Positive_the_speaker_was_strong?', 'PANAS_Negative_the_speaker_was_guilty?', 'PANAS_Negative_the_speaker_was_scared?', 'PANAS_Negative_the_speaker_was_hostile?', 'PANAS_Positive_the_speaker_was_enthusiastic?', 'PANAS_Positive_the_speaker_was_proud?', 'PANAS_Negative_the_speaker_was_irritable?', 'PANAS_Positive_the_speaker_was_alert?', 'PANAS_Negative_the_speaker_was_ashamed?', 'PANAS_Positive_the_speaker_was_inspired?', 'PANAS_Negative_the_speaker_was_nervous?', 'PANAS_Positive_the_speaker_was_determined?', 'PANAS_Positive_the_speaker_was_attentive?', 'PANAS_Negative_the_speaker_was_jittery?', 'PANAS_Positive_the_speaker_was_active?', 'PANAS_Negative_the_speaker_was_afraid?', 'WHO-5_Well-Being_the_speaker_felt_cheerful_and_in_good_spirits?', 'WHO-5_Well-Being_the_speaker_felt_calm_and_relaxed?', 'WHO-5_Well-Being_the_speaker_felt_active_and_vigorous?', 'WHO-5_Well-Being_the_speaker_woke_up_feeling_fresh_and_rested?', \"WHO-5_Well-Being_the_speaker's_daily_life_has_been_filled_with_things_that_interest_them?\", 'CIT_Relationship_-_Support_there_are_people_the_speaker_depended_on_to_help_them?', 'CIT_Relationship_-_Support_there_are_people_who_gave_the_speaker_support_and_encouragement?', 'CIT_Relationship_-_Support_there_are_people_who_appreciated_the_speaker_as_a_person?', 'CIT_Relationship_-_Community_the_speaker_pitched_in_to_help_when_their_local_community_needed_something_done?', 'CIT_Relationship_-_Community_the_speaker_invited_their_neighbors_to_their_home?', 'CIT_Relationship_-_Community_the_speaker_looked_for_ways_to_help_their_neighbors_when_they_are_in_need?', 'CIT_Relationship_-_Trust_the_speaker_trusted_people_in_their_society?', \"CIT_Relationship_-_Trust_people_in_the_speaker's_neighborhood_could_be_trusted?\", 'CIT_Relationship_-_Trust_most_people_the_speaker_met_were_honest?', 'CIT_Relationship_-_Respect_people_respected_the_speaker?', 'CIT_Relationship_-_Respect_people_were_polite_to_the_speaker?', 'CIT_Relationship_-_Respect_the_speaker_was_treated_with_the_same_amount_of_respect_as_others?', 'CIT_Relationship_-_Loneliness_the_speaker_felt_lonely?', 'CIT_Relationship_-_Loneliness_the_speaker_often_felt_left_out?', 'CIT_Relationship_-_Loneliness_there_was_no_one_the_speaker_felt_close_to?', 'CIT_Relationship_-_Belonging_the_speaker_felt_a_sense_of_belonging_in_their_community?', 'CIT_Relationship_-_Belonging_the_speaker_felt_a_sense_of_belonging_in_their_state_or_province?', 'CIT_Relationship_-_Belonging_the_speaker_felt_a_sense_of_belonging_in_their_country?', 'CIT_Engagement_the_speaker_was_fully_absorbed_in_the_activities_they_were_doing?', 'CIT_Engagement_the_speaker_felt_energized_in_most_activities_they_do?', 'CIT_Engagement_the_speaker_felt_excited_when_they_were_working_on_something?', 'CIT_Mastery_-_Skills_the_speaker_used_their_skills_a_lot_in_their_everyday_life?', 'CIT_Mastery_-_Skills_the_speaker_used_their_talents?', 'CIT_Mastery_-_Skills_the_speaker_felt_they_do_what_they_are_good_at_everyday?', 'CIT_Mastery_-_Learning_the_speaker_learned_something_new?', 'CIT_Mastery_-_Learning_the_speaker_felt_learning_new_things_is_important?', 'CIT_Mastery_-_Learning_the_speaker_always_learns_something_everyday?', 'CIT_Mastery_-_Accomplishment_the_speaker_felt_they_achieved_most_of_their_goals?', 'CIT_Mastery_-_Accomplishment_the_speaker_felt_they_fulfilled_their_ambitions?', 'CIT_Mastery_-_Accomplishment_the_speaker_felt_they_were_on_track_to_reach_their_dreams?', 'CIT_Mastery_-_Self-Efficacy_the_speaker_succeeded_when_they_put_their_mind_to_it?', 'CIT_Mastery_-_Self-Efficacy_the_speaker_was_confident_that_they_could_deal_with_unexpected_events?', 'CIT_Mastery_-_Self-Efficacy_the_speaker_believed_that_they_are_capable_in_most_things?', 'CIT_Mastery_-_Self-Worth_the_speaker_felt_what_they_do_in_life_is_valuable_and_worthwhile?', 'CIT_Mastery_-_Self-Worth_the_speaker_felt_the_things_they_did_contributed_to_society?', 'CIT_Mastery_-_Self-Worth_the_speaker_felt_the_work_they_did_was_important_for_other_people?', \"CIT_Autonomy_-_Control_other_people_decided_most_of_the_speaker's_life_decisions?\", 'CIT_Autonomy_-_Control_the_life_choices_the_speaker_made_were_not_really_theirs?', 'CIT_Autonomy_-_Control_other_people_decided_what_the_speaker_could_and_could_not_do?', 'CIT_Meaning_the_speaker_felt_their_life_has_a_clear_sense_of_purpose?', 'CIT_Meaning_the_speaker_felt_they_had_found_a_satisfactory_meaning_in_life?', 'CIT_Meaning_the_speaker_knew_what_gives_meaning_to_their_life?', 'CIT_Optimism_the_speaker_felt_optimistic_about_their_future?', 'CIT_Optimism_the_speaker_had_a_positive_outlook_on_life?', 'CIT_Optimism_the_speaker_expected_more_good_things_in_their_life_than_bad?', 'CIT_Subjective_Well-Being_-_Life_Satisfaction_the_speaker_felt_in_most_ways_their_life_was_close_to_their_ideal?', 'CIT_Subjective_Well-Being_-_Life_Satisfaction_the_speaker_felt_satisfied_with_their_life?', 'CIT_Subjective_Well-Being_-_Life_Satisfaction_the_speaker_felt_their_life_is_going_well?', 'CIT_Subjective_Well-Being_-_Positive_Feelings_the_speaker_felt_positive_most_of_the_time?', 'CIT_Subjective_Well-Being_-_Positive_Feelings_the_speaker_felt_happy_most_of_the_time?', 'CIT_Subjective_Well-Being_-_Positive_Feelings_the_speaker_felt_good_most_of_the_time?', 'CIT_Subjective_Well-Being_-_Negative_Feelings_the_speaker_felt_negative_most_of_the_time?', 'CIT_Subjective_Well-Being_-_Negative_Feelings_the_speaker_experienced_unhappy_feelings_most_of_the_time?', 'CIT_Subjective_Well-Being_-_Negative_Feelings_the_speaker_felt_bad_most_of_the_time?']\n"
     ]
    }
   ],
   "source": [
    "# Display the first few rows of both datasets\n",
    "print(results.columns.to_list())\n"
   ]
  },
  {
   "cell_type": "code",
   "execution_count": 30,
   "metadata": {},
   "outputs": [
    {
     "name": "stdout",
     "output_type": "stream",
     "text": [
      "✔ Reversed: CIT_Autonomy_-_Control_other_people_decided_most_of_the_speaker's_life_decisions?\n",
      "✔ Reversed: CIT_Autonomy_-_Control_the_life_choices_the_speaker_made_were_not_really_theirs?\n",
      "✔ Reversed: CIT_Autonomy_-_Control_other_people_decided_what_the_speaker_could_and_could_not_do?\n",
      "✔ Reversed: CIT_Subjective_Well-Being_-_Negative_Feelings_the_speaker_felt_negative_most_of_the_time?\n",
      "✔ Reversed: CIT_Subjective_Well-Being_-_Negative_Feelings_the_speaker_experienced_unhappy_feelings_most_of_the_time?\n",
      "✔ Reversed: CIT_Subjective_Well-Being_-_Negative_Feelings_the_speaker_felt_bad_most_of_the_time?\n",
      "✔ Reversed: PWB_Autonomy_the_speaker_was_not_afraid_to_voice_their_opinions,_even_when_they_were_in_opposition_to_others?\n",
      "✔ Reversed: PWB_Personal_Growth_the_speaker_was_continuously_in_the_process_of_learning,_changing,_and_growing?\n",
      "✔ Reversed: PWB_Environmental_Mastery_the_speaker_felt_in_charge_of_the_situation?\n",
      "✔ Reversed: PWB_Positive_Relations_the_speaker_would_be_described_as_a_giving_person,_willing_to_share_their_time_with_others?\n",
      "✔ Reversed: PWB_Purpose_in_Life_the_speaker_enjoyed_making_plans_for_the_future_and_working_to_make_them_a_reality?\n",
      "✔ Reversed: PWB_Positive_Relations_the_speaker_was_seen_as_loving_and_affectionate?\n",
      "✔ Reversed: PWB_Self-Acceptance_the_speaker_felt_pleased_with_how_their_life_had_turned_out?\n",
      "✔ Reversed: PWB_Autonomy_the_speaker's_decisions_were_not_influenced_by_what_everyone_else_was_doing?\n",
      "✔ Reversed: PWB_Personal_Growth_the_speaker_valued_new_experiences_that_challenge_their_thoughts_about_themselves_and_the_world?\n",
      "✔ Reversed: PWB_Purpose_in_Life_the_speaker_felt_a_sense_of_direction_and_purpose?\n",
      "✔ Reversed: PWB_Autonomy_the_speaker_judged_themselves_by_their_own_values_rather_than_by_others'_values?\n",
      "✔ Reversed: PWB_Self-Acceptance_the_speaker_felt_confident_and_positive_about_themselves?\n",
      "✔ Reversed: PWB_Environmental_Mastery_the_speaker_had_built_a_living_environment_and_lifestyle_they_liked?\n",
      "✔ Reversed: PWB_Positive_Relations_the_speaker_felt_mutual_trust_with_their_friends?\n",
      "✔ Reversed: PWB_Purpose_in_Life_the_speaker_felt_they_had_direction_in_life,_unlike_those_who_wander_aimlessly?\n",
      "✔ Reversed: PWB_Self-Acceptance_the_speaker_felt_good_about_themselves_when_comparing_to_friends_and_acquaintances?\n",
      "✔ Reversed: PWB_Autonomy_the_speaker_had_confidence_in_their_opinions,_even_if_contrary_to_the_general_consensus?\n",
      "✔ Reversed: PWB_Environmental_Mastery_the_speaker_felt_that_they_were_good_at_managing_the_responsibilities_of_daily_life?\n",
      "✔ Reversed: PWB_Personal_Growth_the_speaker_felt_they_had_developed_significantly_as_a_person_over_time?\n",
      "✔ Reversed: PWB_Positive_Relations_the_speaker_enjoyed_personal_and_mutual_conversations_with_family_members_and_friends?\n",
      "✔ Reversed: PWB_Self-Acceptance_the_speaker_liked_most_parts_of_their_personality?\n"
     ]
    }
   ],
   "source": [
    "reversed_columns = reverse_coded_items_df['flat_name'].tolist()\n",
    "\n",
    "max_value = 7\n",
    "\n",
    "for col in reversed_columns:\n",
    "    if col in results.columns:\n",
    "        results[col] = max_value + 1 - results[col]\n",
    "        print(f\"✔ Reversed: {col}\")\n",
    "    else:\n",
    "        print(f\"❌ Not found in results: {col}\")\n",
    "\n",
    "\n"
   ]
  },
  {
   "cell_type": "code",
   "execution_count": 19,
   "metadata": {},
   "outputs": [],
   "source": [
    "# Step 2: Define specific groupings for analysis\n",
    "groupings = {\n",
    "    \"Accomplishment and Mastery\": [\n",
    "        (\"PERMA\", \"Accomplishment\"),\n",
    "        (\"CIT\", \"Mastery - Accomplishment\"),\n",
    "        (\"CIT\", \"Mastery - Learning\"),\n",
    "        (\"CIT\", \"Mastery - Self-Efficacy\"),\n",
    "        (\"CIT\", \"Mastery - Self-Worth\"),\n",
    "        (\"CIT\", \"Mastery - Skills\"),\n",
    "        (\"PWB\", \"Environmental Mastery\"),\n",
    "        (\"WBP\", \"Competence\"),\n",
    "        (\"WBP\", \"Accomplishment\"),\n",
    "    ],\n",
    "    \"Autonomy and Control\": [\n",
    "        (\"PWB\", \"Autonomy\"),\n",
    "        (\"WBP\", \"Autonomy\"),\n",
    "        (\"CIT\", \"Autonomy - Control\"),\n",
    "    ],\n",
    "    \"Engagement and Flow\": [\n",
    "        (\"PERMA\", \"Engagement\"),\n",
    "        (\"WBP\", \"Engagement\"),\n",
    "        (\"CIT\", \"Engagement\"),\n",
    "    ],\n",
    "    \"Positive Emotions\": [\n",
    "        (\"PERMA\", \"Positive Emotion\"),\n",
    "        (\"WBP\", \"Positive Emotions\"),\n",
    "        (\"PANAS\", \"Positive\"),\n",
    "    ],\n",
    "    \"Negative Emotions\": [\n",
    "        (\"PERMA\", \"Negative emotion\"),\n",
    "        (\"PANAS\", \"Negative\"),\n",
    "        (\"CIT\", \"Subjective Well-Being - Negative Feelings\"),\n",
    "    ],\n",
    "    \"Meaning and Purpose\": [\n",
    "        (\"PERMA\", \"Meaning\"),\n",
    "        (\"WBP\", \"Meaning\"),\n",
    "        (\"PWB\", \"Purpose in Life\"),\n",
    "        (\"CIT\", \"Meaning\"),\n",
    "    ],\n",
    "    \"Positive Relationships\": [\n",
    "        (\"PERMA\", \"Relationships\"),\n",
    "        (\"PWB\", \"Positive Relations\"),\n",
    "        (\"WBP\", \"Positive Relationships\"),\n",
    "        (\"CIT\", \"Relationship - Belonging\"),\n",
    "        (\"CIT\", \"Relationship - Community\"),\n",
    "        (\"CIT\", \"Relationship - Respect\"),\n",
    "        (\"CIT\", \"Relationship - Support\"),\n",
    "        (\"CIT\", \"Relationship - Trust\"),\n",
    "    ],\n",
    "    \"Life Satisfaction and Well-Being\": [\n",
    "        (\"SWLS\", \"LS\"),\n",
    "        (\"WHO-5\", \"Well-Being\"),\n",
    "        (\"CIT\", \"Subjective Well-Being - Life Satisfaction\"),\n",
    "    ]\n",
    "}"
   ]
  },
  {
   "cell_type": "code",
   "execution_count": 20,
   "metadata": {},
   "outputs": [
    {
     "ename": "ModuleNotFoundError",
     "evalue": "No module named 'openpyxl'",
     "output_type": "error",
     "traceback": [
      "\u001b[31m---------------------------------------------------------------------------\u001b[39m",
      "\u001b[31mModuleNotFoundError\u001b[39m                       Traceback (most recent call last)",
      "\u001b[36mCell\u001b[39m\u001b[36m \u001b[39m\u001b[32mIn[20]\u001b[39m\u001b[32m, line 34\u001b[39m\n\u001b[32m     32\u001b[39m output_path = \u001b[33mf\u001b[39m\u001b[33m'\u001b[39m\u001b[33manalysis_data/item_correlations/Inter-Scales Dimension/\u001b[39m\u001b[38;5;132;01m{\u001b[39;00mgroup_name\u001b[38;5;132;01m}\u001b[39;00m\u001b[33m_correlation_matrix.xlsx\u001b[39m\u001b[33m'\u001b[39m\n\u001b[32m     33\u001b[39m os.makedirs(os.path.dirname(output_path), exist_ok=\u001b[38;5;28;01mTrue\u001b[39;00m)\n\u001b[32m---> \u001b[39m\u001b[32m34\u001b[39m \u001b[43mcorr_matrix\u001b[49m\u001b[43m.\u001b[49m\u001b[43mto_excel\u001b[49m\u001b[43m(\u001b[49m\u001b[43moutput_path\u001b[49m\u001b[43m)\u001b[49m\n\u001b[32m     36\u001b[39m \u001b[38;5;66;03m# Optionally, print the correlation matrix for review\u001b[39;00m\n\u001b[32m     37\u001b[39m \u001b[38;5;66;03m# print(f\"{group_name} Correlation Matrix:\")\u001b[39;00m\n\u001b[32m     38\u001b[39m \u001b[38;5;66;03m# print(corr_matrix)\u001b[39;00m\n",
      "\u001b[36mFile \u001b[39m\u001b[32m~/Desktop/Github/happyDB/viz-env/lib/python3.11/site-packages/pandas/util/_decorators.py:333\u001b[39m, in \u001b[36mdeprecate_nonkeyword_arguments.<locals>.decorate.<locals>.wrapper\u001b[39m\u001b[34m(*args, **kwargs)\u001b[39m\n\u001b[32m    327\u001b[39m \u001b[38;5;28;01mif\u001b[39;00m \u001b[38;5;28mlen\u001b[39m(args) > num_allow_args:\n\u001b[32m    328\u001b[39m     warnings.warn(\n\u001b[32m    329\u001b[39m         msg.format(arguments=_format_argument_list(allow_args)),\n\u001b[32m    330\u001b[39m         \u001b[38;5;167;01mFutureWarning\u001b[39;00m,\n\u001b[32m    331\u001b[39m         stacklevel=find_stack_level(),\n\u001b[32m    332\u001b[39m     )\n\u001b[32m--> \u001b[39m\u001b[32m333\u001b[39m \u001b[38;5;28;01mreturn\u001b[39;00m \u001b[43mfunc\u001b[49m\u001b[43m(\u001b[49m\u001b[43m*\u001b[49m\u001b[43margs\u001b[49m\u001b[43m,\u001b[49m\u001b[43m \u001b[49m\u001b[43m*\u001b[49m\u001b[43m*\u001b[49m\u001b[43mkwargs\u001b[49m\u001b[43m)\u001b[49m\n",
      "\u001b[36mFile \u001b[39m\u001b[32m~/Desktop/Github/happyDB/viz-env/lib/python3.11/site-packages/pandas/core/generic.py:2417\u001b[39m, in \u001b[36mNDFrame.to_excel\u001b[39m\u001b[34m(self, excel_writer, sheet_name, na_rep, float_format, columns, header, index, index_label, startrow, startcol, engine, merge_cells, inf_rep, freeze_panes, storage_options, engine_kwargs)\u001b[39m\n\u001b[32m   2404\u001b[39m \u001b[38;5;28;01mfrom\u001b[39;00m\u001b[38;5;250m \u001b[39m\u001b[34;01mpandas\u001b[39;00m\u001b[34;01m.\u001b[39;00m\u001b[34;01mio\u001b[39;00m\u001b[34;01m.\u001b[39;00m\u001b[34;01mformats\u001b[39;00m\u001b[34;01m.\u001b[39;00m\u001b[34;01mexcel\u001b[39;00m\u001b[38;5;250m \u001b[39m\u001b[38;5;28;01mimport\u001b[39;00m ExcelFormatter\n\u001b[32m   2406\u001b[39m formatter = ExcelFormatter(\n\u001b[32m   2407\u001b[39m     df,\n\u001b[32m   2408\u001b[39m     na_rep=na_rep,\n\u001b[32m   (...)\u001b[39m\u001b[32m   2415\u001b[39m     inf_rep=inf_rep,\n\u001b[32m   2416\u001b[39m )\n\u001b[32m-> \u001b[39m\u001b[32m2417\u001b[39m \u001b[43mformatter\u001b[49m\u001b[43m.\u001b[49m\u001b[43mwrite\u001b[49m\u001b[43m(\u001b[49m\n\u001b[32m   2418\u001b[39m \u001b[43m    \u001b[49m\u001b[43mexcel_writer\u001b[49m\u001b[43m,\u001b[49m\n\u001b[32m   2419\u001b[39m \u001b[43m    \u001b[49m\u001b[43msheet_name\u001b[49m\u001b[43m=\u001b[49m\u001b[43msheet_name\u001b[49m\u001b[43m,\u001b[49m\n\u001b[32m   2420\u001b[39m \u001b[43m    \u001b[49m\u001b[43mstartrow\u001b[49m\u001b[43m=\u001b[49m\u001b[43mstartrow\u001b[49m\u001b[43m,\u001b[49m\n\u001b[32m   2421\u001b[39m \u001b[43m    \u001b[49m\u001b[43mstartcol\u001b[49m\u001b[43m=\u001b[49m\u001b[43mstartcol\u001b[49m\u001b[43m,\u001b[49m\n\u001b[32m   2422\u001b[39m \u001b[43m    \u001b[49m\u001b[43mfreeze_panes\u001b[49m\u001b[43m=\u001b[49m\u001b[43mfreeze_panes\u001b[49m\u001b[43m,\u001b[49m\n\u001b[32m   2423\u001b[39m \u001b[43m    \u001b[49m\u001b[43mengine\u001b[49m\u001b[43m=\u001b[49m\u001b[43mengine\u001b[49m\u001b[43m,\u001b[49m\n\u001b[32m   2424\u001b[39m \u001b[43m    \u001b[49m\u001b[43mstorage_options\u001b[49m\u001b[43m=\u001b[49m\u001b[43mstorage_options\u001b[49m\u001b[43m,\u001b[49m\n\u001b[32m   2425\u001b[39m \u001b[43m    \u001b[49m\u001b[43mengine_kwargs\u001b[49m\u001b[43m=\u001b[49m\u001b[43mengine_kwargs\u001b[49m\u001b[43m,\u001b[49m\n\u001b[32m   2426\u001b[39m \u001b[43m\u001b[49m\u001b[43m)\u001b[49m\n",
      "\u001b[36mFile \u001b[39m\u001b[32m~/Desktop/Github/happyDB/viz-env/lib/python3.11/site-packages/pandas/io/formats/excel.py:943\u001b[39m, in \u001b[36mExcelFormatter.write\u001b[39m\u001b[34m(self, writer, sheet_name, startrow, startcol, freeze_panes, engine, storage_options, engine_kwargs)\u001b[39m\n\u001b[32m    941\u001b[39m     need_save = \u001b[38;5;28;01mFalse\u001b[39;00m\n\u001b[32m    942\u001b[39m \u001b[38;5;28;01melse\u001b[39;00m:\n\u001b[32m--> \u001b[39m\u001b[32m943\u001b[39m     writer = \u001b[43mExcelWriter\u001b[49m\u001b[43m(\u001b[49m\n\u001b[32m    944\u001b[39m \u001b[43m        \u001b[49m\u001b[43mwriter\u001b[49m\u001b[43m,\u001b[49m\n\u001b[32m    945\u001b[39m \u001b[43m        \u001b[49m\u001b[43mengine\u001b[49m\u001b[43m=\u001b[49m\u001b[43mengine\u001b[49m\u001b[43m,\u001b[49m\n\u001b[32m    946\u001b[39m \u001b[43m        \u001b[49m\u001b[43mstorage_options\u001b[49m\u001b[43m=\u001b[49m\u001b[43mstorage_options\u001b[49m\u001b[43m,\u001b[49m\n\u001b[32m    947\u001b[39m \u001b[43m        \u001b[49m\u001b[43mengine_kwargs\u001b[49m\u001b[43m=\u001b[49m\u001b[43mengine_kwargs\u001b[49m\u001b[43m,\u001b[49m\n\u001b[32m    948\u001b[39m \u001b[43m    \u001b[49m\u001b[43m)\u001b[49m\n\u001b[32m    949\u001b[39m     need_save = \u001b[38;5;28;01mTrue\u001b[39;00m\n\u001b[32m    951\u001b[39m \u001b[38;5;28;01mtry\u001b[39;00m:\n",
      "\u001b[36mFile \u001b[39m\u001b[32m~/Desktop/Github/happyDB/viz-env/lib/python3.11/site-packages/pandas/io/excel/_openpyxl.py:57\u001b[39m, in \u001b[36mOpenpyxlWriter.__init__\u001b[39m\u001b[34m(self, path, engine, date_format, datetime_format, mode, storage_options, if_sheet_exists, engine_kwargs, **kwargs)\u001b[39m\n\u001b[32m     44\u001b[39m \u001b[38;5;28;01mdef\u001b[39;00m\u001b[38;5;250m \u001b[39m\u001b[34m__init__\u001b[39m(\n\u001b[32m     45\u001b[39m     \u001b[38;5;28mself\u001b[39m,\n\u001b[32m     46\u001b[39m     path: FilePath | WriteExcelBuffer | ExcelWriter,\n\u001b[32m   (...)\u001b[39m\u001b[32m     55\u001b[39m ) -> \u001b[38;5;28;01mNone\u001b[39;00m:\n\u001b[32m     56\u001b[39m     \u001b[38;5;66;03m# Use the openpyxl module as the Excel writer.\u001b[39;00m\n\u001b[32m---> \u001b[39m\u001b[32m57\u001b[39m     \u001b[38;5;28;01mfrom\u001b[39;00m\u001b[38;5;250m \u001b[39m\u001b[34;01mopenpyxl\u001b[39;00m\u001b[34;01m.\u001b[39;00m\u001b[34;01mworkbook\u001b[39;00m\u001b[38;5;250m \u001b[39m\u001b[38;5;28;01mimport\u001b[39;00m Workbook\n\u001b[32m     59\u001b[39m     engine_kwargs = combine_kwargs(engine_kwargs, kwargs)\n\u001b[32m     61\u001b[39m     \u001b[38;5;28msuper\u001b[39m().\u001b[34m__init__\u001b[39m(\n\u001b[32m     62\u001b[39m         path,\n\u001b[32m     63\u001b[39m         mode=mode,\n\u001b[32m   (...)\u001b[39m\u001b[32m     66\u001b[39m         engine_kwargs=engine_kwargs,\n\u001b[32m     67\u001b[39m     )\n",
      "\u001b[31mModuleNotFoundError\u001b[39m: No module named 'openpyxl'"
     ]
    }
   ],
   "source": [
    "# Step 2: Clean and sanitize groupings\n",
    "# Define a function to clean and sanitize Scale and Dimension\n",
    "def clean_text(text):\n",
    "    return text.strip().replace(\" \", \"_\")\n",
    "\n",
    "# Clean the groupings dictionary\n",
    "sanitized_groupings = {}\n",
    "for group_name, dimensions in groupings.items():\n",
    "    sanitized_dimensions = [(clean_text(scale), clean_text(dimension)) for scale, dimension in dimensions]\n",
    "    sanitized_groupings[group_name] = sanitized_dimensions\n",
    "\n",
    "# Step 3: Compute correlation matrices for each grouping\n",
    "for group_name, dimensions in sanitized_groupings.items():\n",
    "    group_items = []\n",
    "\n",
    "    for scale, dimension in dimensions:\n",
    "        # Match all items that belong to this scale and dimension\n",
    "        # Allow for columns that start with the Scale_Dimension prefix, ignoring Items\n",
    "        items = [\n",
    "            col for col in results.columns\n",
    "            if col.startswith(f\"{scale}_{dimension}_\")  # Match Scale and Dimension only\n",
    "        ]\n",
    "        group_items.extend(items)\n",
    "\n",
    "    if len(group_items) > 1:  # Only calculate if there are multiple items in the group\n",
    "        group_data = results[group_items]\n",
    "\n",
    "        # Compute the correlation matrix for this group\n",
    "        corr_matrix = group_data.corr()\n",
    "\n",
    "        # Save the correlation matrix for this group\n",
    "        output_path = f'analysis_data/item_correlations/Inter-Scales Dimension/{group_name}_correlation_matrix.xlsx'\n",
    "        os.makedirs(os.path.dirname(output_path), exist_ok=True)\n",
    "        corr_matrix.to_excel(output_path)\n",
    "\n",
    "        # Optionally, print the correlation matrix for review\n",
    "        # print(f\"{group_name} Correlation Matrix:\")\n",
    "        # print(corr_matrix)\n"
   ]
  }
 ],
 "metadata": {
  "kernelspec": {
   "display_name": "Python (viz-env)",
   "language": "python",
   "name": "viz-env"
  },
  "language_info": {
   "codemirror_mode": {
    "name": "ipython",
    "version": 3
   },
   "file_extension": ".py",
   "mimetype": "text/x-python",
   "name": "python",
   "nbconvert_exporter": "python",
   "pygments_lexer": "ipython3",
   "version": "3.11.12"
  }
 },
 "nbformat": 4,
 "nbformat_minor": 2
}
