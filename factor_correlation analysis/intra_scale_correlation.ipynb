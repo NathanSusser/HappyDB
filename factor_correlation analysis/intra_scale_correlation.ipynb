{
 "cells": [
  {
   "cell_type": "code",
   "execution_count": 17,
   "id": "0c6991d5",
   "metadata": {},
   "outputs": [],
   "source": [
    "import pandas as pd\n",
    "import re\n",
    "import os\n",
    "import pingouin as pg"
   ]
  },
  {
   "cell_type": "code",
   "execution_count": 18,
   "id": "e1011bdb",
   "metadata": {},
   "outputs": [],
   "source": [
    "# Set working directory\n",
    "os.chdir('/Users/nsusser/Desktop/Github/happyDB/')\n",
    "\n",
    "# Load the main data and reverse-coded items\n",
    "results = pd.read_csv('data/filtered_ratings.csv')  \n",
    "reverse_coded_items_df = pd.read_csv('Profiles/reversed_column_names.csv')"
   ]
  },
  {
   "cell_type": "code",
   "execution_count": 19,
   "id": "982f60a4",
   "metadata": {},
   "outputs": [
    {
     "name": "stdout",
     "output_type": "stream",
     "text": [
      "Index(['hmid', 'cleaned_hm',\n",
      "       'PERMA_Accomplishment_the_speaker_felt_they_were_making_progress_towards_accomplishing_their_goals?',\n",
      "       'PERMA_Engagement_the_speaker_became_absorbed_in_what_they_were_doing?',\n",
      "       'PERMA_Positive_Emotion_the_speaker_felt_joyful?',\n",
      "       'PERMA_Negative_emotion_the_speaker_felt_anxious?',\n",
      "       'PERMA_Accomplishment_the_speaker_achieved_the_important_goals_they_set_for_themselves?',\n",
      "       'PERMA_Health_the_speaker_perceived_their_health_positively?',\n",
      "       'PERMA_Meaning_the_speaker_felt_their_life_was_purposeful_and_meaningful?',\n",
      "       'PERMA_Relationships_the_speaker_received_help_and_support_from_others_when_needed?',\n",
      "       ...\n",
      "       'CIT_Optimism_the_speaker_expected_more_good_things_in_their_life_than_bad?',\n",
      "       'CIT_Subjective_Well-Being_-_Life_Satisfaction_the_speaker_felt_in_most_ways_their_life_was_close_to_their_ideal?',\n",
      "       'CIT_Subjective_Well-Being_-_Life_Satisfaction_the_speaker_felt_satisfied_with_their_life?',\n",
      "       'CIT_Subjective_Well-Being_-_Life_Satisfaction_the_speaker_felt_their_life_is_going_well?',\n",
      "       'CIT_Subjective_Well-Being_-_Positive_Feelings_the_speaker_felt_positive_most_of_the_time?',\n",
      "       'CIT_Subjective_Well-Being_-_Positive_Feelings_the_speaker_felt_happy_most_of_the_time?',\n",
      "       'CIT_Subjective_Well-Being_-_Positive_Feelings_the_speaker_felt_good_most_of_the_time?',\n",
      "       'CIT_Subjective_Well-Being_-_Negative_Feelings_the_speaker_felt_negative_most_of_the_time?',\n",
      "       'CIT_Subjective_Well-Being_-_Negative_Feelings_the_speaker_experienced_unhappy_feelings_most_of_the_time?',\n",
      "       'CIT_Subjective_Well-Being_-_Negative_Feelings_the_speaker_felt_bad_most_of_the_time?'],\n",
      "      dtype='object', length=199)\n"
     ]
    }
   ],
   "source": [
    "# Display the first few rows of both datasets\n",
    "print(results.columns)"
   ]
  },
  {
   "cell_type": "code",
   "execution_count": 20,
   "id": "e3d57463",
   "metadata": {},
   "outputs": [],
   "source": [
    "# Load your CSV (assuming it's already in a DataFrame)\n",
    "scales_df = pd.read_csv('dataframes/scales_clean.csv')  # replace with actual path\n",
    "\n",
    "# Clean the columns\n",
    "scales_df['Scale'] = scales_df['Scale'].str.strip().str.replace(r\"[^\\w\\s]\", \"\").str.replace(r\"\\s+\", \"_\", regex=True)\n",
    "scales_df['Dimension'] = scales_df['Dimension'].str.strip().str.replace(r\"[^\\w\\s]\", \"\").str.replace(r\"\\s+\", \"_\", regex=True)\n",
    "\n",
    "# Optionally, make a unique ID if needed\n",
    "scales_df['Scale_Dimension'] = scales_df['Scale'] + \"_\" + scales_df['Dimension']\n"
   ]
  },
  {
   "cell_type": "code",
   "execution_count": 21,
   "id": "effe37c1",
   "metadata": {},
   "outputs": [
    {
     "name": "stdout",
     "output_type": "stream",
     "text": [
      "Reversing column: CIT_Autonomy_-_Control_other_people_decided_most_of_the_speaker's_life_decisions?\n",
      "Reversing column: CIT_Autonomy_-_Control_the_life_choices_the_speaker_made_were_not_really_theirs?\n",
      "Reversing column: CIT_Autonomy_-_Control_other_people_decided_what_the_speaker_could_and_could_not_do?\n",
      "Reversing column: CIT_Subjective_Well-Being_-_Negative_Feelings_the_speaker_felt_negative_most_of_the_time?\n",
      "Reversing column: CIT_Subjective_Well-Being_-_Negative_Feelings_the_speaker_experienced_unhappy_feelings_most_of_the_time?\n",
      "Reversing column: CIT_Subjective_Well-Being_-_Negative_Feelings_the_speaker_felt_bad_most_of_the_time?\n",
      "Reversing column: PWB_Autonomy_the_speaker_was_not_afraid_to_voice_their_opinions,_even_when_they_were_in_opposition_to_others?\n",
      "Reversing column: PWB_Personal_Growth_the_speaker_was_continuously_in_the_process_of_learning,_changing,_and_growing?\n",
      "Reversing column: PWB_Environmental_Mastery_the_speaker_felt_in_charge_of_the_situation?\n",
      "Reversing column: PWB_Positive_Relations_the_speaker_would_be_described_as_a_giving_person,_willing_to_share_their_time_with_others?\n",
      "Reversing column: PWB_Purpose_in_Life_the_speaker_enjoyed_making_plans_for_the_future_and_working_to_make_them_a_reality?\n",
      "Reversing column: PWB_Positive_Relations_the_speaker_was_seen_as_loving_and_affectionate?\n",
      "Reversing column: PWB_Self-Acceptance_the_speaker_felt_pleased_with_how_their_life_had_turned_out?\n",
      "Reversing column: PWB_Autonomy_the_speaker's_decisions_were_not_influenced_by_what_everyone_else_was_doing?\n",
      "Reversing column: PWB_Personal_Growth_the_speaker_valued_new_experiences_that_challenge_their_thoughts_about_themselves_and_the_world?\n",
      "Reversing column: PWB_Purpose_in_Life_the_speaker_felt_a_sense_of_direction_and_purpose?\n",
      "Reversing column: PWB_Autonomy_the_speaker_judged_themselves_by_their_own_values_rather_than_by_others'_values?\n",
      "Reversing column: PWB_Self-Acceptance_the_speaker_felt_confident_and_positive_about_themselves?\n",
      "Reversing column: PWB_Environmental_Mastery_the_speaker_had_built_a_living_environment_and_lifestyle_they_liked?\n",
      "Reversing column: PWB_Positive_Relations_the_speaker_felt_mutual_trust_with_their_friends?\n",
      "Reversing column: PWB_Purpose_in_Life_the_speaker_felt_they_had_direction_in_life,_unlike_those_who_wander_aimlessly?\n",
      "Reversing column: PWB_Self-Acceptance_the_speaker_felt_good_about_themselves_when_comparing_to_friends_and_acquaintances?\n",
      "Reversing column: PWB_Autonomy_the_speaker_had_confidence_in_their_opinions,_even_if_contrary_to_the_general_consensus?\n",
      "Reversing column: PWB_Environmental_Mastery_the_speaker_felt_that_they_were_good_at_managing_the_responsibilities_of_daily_life?\n",
      "Reversing column: PWB_Personal_Growth_the_speaker_felt_they_had_developed_significantly_as_a_person_over_time?\n",
      "Reversing column: PWB_Positive_Relations_the_speaker_enjoyed_personal_and_mutual_conversations_with_family_members_and_friends?\n",
      "Reversing column: PWB_Self-Acceptance_the_speaker_liked_most_parts_of_their_personality?\n"
     ]
    }
   ],
   "source": [
    "reversed_columns = reverse_coded_items_df['flat_name'].tolist()\n",
    "\n",
    "# Get the maximum value in the dataset\n",
    "max_value = 7  # Max value in the dataset\n",
    "\n",
    "# Reverse coding based on the flattened column names\n",
    "for col in reversed_columns:\n",
    "    print(f\"Reversing column: {col}\")\n",
    "    if col in results.columns:\n",
    "        results[col] = max_value + 1 - results[col]\n",
    "    else:\n",
    "        print(f\"Column {col} not found in results DataFrame.\")"
   ]
  },
  {
   "cell_type": "code",
   "execution_count": 22,
   "id": "cedcc934",
   "metadata": {},
   "outputs": [],
   "source": [
    "# Generate a sorted list of (scale, dimension) pairs from scaled_df\n",
    "dimensions = sorted(scales_df[['Scale', 'Dimension']].drop_duplicates().values.tolist())\n"
   ]
  },
  {
   "cell_type": "code",
   "execution_count": 23,
   "id": "44b5bf89",
   "metadata": {},
   "outputs": [
    {
     "name": "stdout",
     "output_type": "stream",
     "text": [
      "Saved correlation matrix: analysis_data/item_correlations/Intra-Scales Dimension/CIT/Autonomy_-_Control_correlation_matrix.xlsx\n",
      "Saved correlation matrix: analysis_data/item_correlations/Intra-Scales Dimension/CIT/Engagement_correlation_matrix.xlsx\n",
      "Saved correlation matrix: analysis_data/item_correlations/Intra-Scales Dimension/CIT/Mastery_-_Accomplishment_correlation_matrix.xlsx\n",
      "Saved correlation matrix: analysis_data/item_correlations/Intra-Scales Dimension/CIT/Mastery_-_Learning_correlation_matrix.xlsx\n",
      "Saved correlation matrix: analysis_data/item_correlations/Intra-Scales Dimension/CIT/Mastery_-_Self-Efficacy_correlation_matrix.xlsx\n",
      "Saved correlation matrix: analysis_data/item_correlations/Intra-Scales Dimension/CIT/Mastery_-_Self-Worth_correlation_matrix.xlsx\n",
      "Saved correlation matrix: analysis_data/item_correlations/Intra-Scales Dimension/CIT/Mastery_-_Skills_correlation_matrix.xlsx\n",
      "Saved correlation matrix: analysis_data/item_correlations/Intra-Scales Dimension/CIT/Meaning_correlation_matrix.xlsx\n",
      "Saved correlation matrix: analysis_data/item_correlations/Intra-Scales Dimension/CIT/Optimism_correlation_matrix.xlsx\n",
      "Saved correlation matrix: analysis_data/item_correlations/Intra-Scales Dimension/CIT/Relationship_-_Belonging_correlation_matrix.xlsx\n",
      "Saved correlation matrix: analysis_data/item_correlations/Intra-Scales Dimension/CIT/Relationship_-_Community_correlation_matrix.xlsx\n",
      "Saved correlation matrix: analysis_data/item_correlations/Intra-Scales Dimension/CIT/Relationship_-_Loneliness_correlation_matrix.xlsx\n",
      "Saved correlation matrix: analysis_data/item_correlations/Intra-Scales Dimension/CIT/Relationship_-_Respect_correlation_matrix.xlsx\n",
      "Saved correlation matrix: analysis_data/item_correlations/Intra-Scales Dimension/CIT/Relationship_-_Support_correlation_matrix.xlsx\n",
      "Saved correlation matrix: analysis_data/item_correlations/Intra-Scales Dimension/CIT/Relationship_-_Trust_correlation_matrix.xlsx\n",
      "Saved correlation matrix: analysis_data/item_correlations/Intra-Scales Dimension/CIT/Subjective_Well-Being_-_Life_Satisfaction_correlation_matrix.xlsx\n",
      "Saved correlation matrix: analysis_data/item_correlations/Intra-Scales Dimension/CIT/Subjective_Well-Being_-_Negative_Feelings_correlation_matrix.xlsx\n",
      "Saved correlation matrix: analysis_data/item_correlations/Intra-Scales Dimension/CIT/Subjective_Well-Being_-_Positive_Feelings_correlation_matrix.xlsx\n",
      "Saved correlation matrix: analysis_data/item_correlations/Intra-Scales Dimension/PANAS/Negative_correlation_matrix.xlsx\n",
      "Saved correlation matrix: analysis_data/item_correlations/Intra-Scales Dimension/PANAS/Positive_correlation_matrix.xlsx\n",
      "Saved correlation matrix: analysis_data/item_correlations/Intra-Scales Dimension/PERMA/Accomplishment_correlation_matrix.xlsx\n",
      "Saved correlation matrix: analysis_data/item_correlations/Intra-Scales Dimension/PERMA/Engagement_correlation_matrix.xlsx\n",
      "Saved correlation matrix: analysis_data/item_correlations/Intra-Scales Dimension/PERMA/Health_correlation_matrix.xlsx\n",
      "Saved correlation matrix: analysis_data/item_correlations/Intra-Scales Dimension/PERMA/Meaning_correlation_matrix.xlsx\n",
      "Saved correlation matrix: analysis_data/item_correlations/Intra-Scales Dimension/PERMA/Negative_emotion_correlation_matrix.xlsx\n",
      "Saved correlation matrix: analysis_data/item_correlations/Intra-Scales Dimension/PERMA/Positive_Emotion_correlation_matrix.xlsx\n",
      "Saved correlation matrix: analysis_data/item_correlations/Intra-Scales Dimension/PERMA/Relationships_correlation_matrix.xlsx\n",
      "Saved correlation matrix: analysis_data/item_correlations/Intra-Scales Dimension/PWB/Autonomy_correlation_matrix.xlsx\n",
      "Saved correlation matrix: analysis_data/item_correlations/Intra-Scales Dimension/PWB/Environmental_Mastery_correlation_matrix.xlsx\n",
      "Saved correlation matrix: analysis_data/item_correlations/Intra-Scales Dimension/PWB/Personal_Growth_correlation_matrix.xlsx\n",
      "Saved correlation matrix: analysis_data/item_correlations/Intra-Scales Dimension/PWB/Positive_Relations_correlation_matrix.xlsx\n",
      "Saved correlation matrix: analysis_data/item_correlations/Intra-Scales Dimension/PWB/Purpose_in_Life_correlation_matrix.xlsx\n",
      "Saved correlation matrix: analysis_data/item_correlations/Intra-Scales Dimension/PWB/Self-Acceptance_correlation_matrix.xlsx\n",
      "Saved correlation matrix: analysis_data/item_correlations/Intra-Scales Dimension/SWLS/LS_correlation_matrix.xlsx\n",
      "Saved correlation matrix: analysis_data/item_correlations/Intra-Scales Dimension/WBP/Autonomy_correlation_matrix.xlsx\n",
      "Saved correlation matrix: analysis_data/item_correlations/Intra-Scales Dimension/WBP/Clear_Thinking_correlation_matrix.xlsx\n",
      "Saved correlation matrix: analysis_data/item_correlations/Intra-Scales Dimension/WBP/Competence_correlation_matrix.xlsx\n",
      "Saved correlation matrix: analysis_data/item_correlations/Intra-Scales Dimension/WBP/Emotional_Stability_correlation_matrix.xlsx\n",
      "Saved correlation matrix: analysis_data/item_correlations/Intra-Scales Dimension/WBP/Empathy_correlation_matrix.xlsx\n",
      "Saved correlation matrix: analysis_data/item_correlations/Intra-Scales Dimension/WBP/Engagement_correlation_matrix.xlsx\n",
      "Saved correlation matrix: analysis_data/item_correlations/Intra-Scales Dimension/WBP/Meaning_correlation_matrix.xlsx\n",
      "Saved correlation matrix: analysis_data/item_correlations/Intra-Scales Dimension/WBP/Optimism_correlation_matrix.xlsx\n",
      "Saved correlation matrix: analysis_data/item_correlations/Intra-Scales Dimension/WBP/Positive_Emotions_correlation_matrix.xlsx\n",
      "Saved correlation matrix: analysis_data/item_correlations/Intra-Scales Dimension/WBP/Positive_Relationships_correlation_matrix.xlsx\n",
      "Saved correlation matrix: analysis_data/item_correlations/Intra-Scales Dimension/WBP/Prosocial_Behavior_correlation_matrix.xlsx\n",
      "Saved correlation matrix: analysis_data/item_correlations/Intra-Scales Dimension/WBP/Resilience_correlation_matrix.xlsx\n",
      "Saved correlation matrix: analysis_data/item_correlations/Intra-Scales Dimension/WBP/Self-Acceptance_correlation_matrix.xlsx\n",
      "Saved correlation matrix: analysis_data/item_correlations/Intra-Scales Dimension/WBP/Self-Esteem_correlation_matrix.xlsx\n",
      "Saved correlation matrix: analysis_data/item_correlations/Intra-Scales Dimension/WBP/Vitality_correlation_matrix.xlsx\n",
      "Saved correlation matrix: analysis_data/item_correlations/Intra-Scales Dimension/WHO-5/Well-Being_correlation_matrix.xlsx\n",
      "Cronbach's alpha summary saved to: analysis_data/item_correlations/Cronbach_Alpha_Summary.xlsx\n"
     ]
    }
   ],
   "source": [
    "# Define a function to clean and sanitize text\n",
    "def clean_text(text):\n",
    "    return text.strip().replace(\" \", \"_\")\n",
    "\n",
    "# Container to hold alpha results\n",
    "alpha_results = []\n",
    "\n",
    "# Iterate over scale-dimension pairs\n",
    "for scale, dimension in dimensions:\n",
    "    # Clean names for file path consistency\n",
    "    scale_name = clean_text(scale)\n",
    "    dimension_name = clean_text(dimension)\n",
    "\n",
    "    # Find all matching item columns\n",
    "    prefix = f\"{scale_name}_{dimension_name}_\"\n",
    "    dimension_items = [col for col in results.columns if col.startswith(prefix)]\n",
    "\n",
    "    if len(dimension_items) > 1:\n",
    "        dim_data = results[dimension_items]\n",
    "\n",
    "        # Drop rows with NaNs to avoid alpha computation issues\n",
    "        dim_data_clean = dim_data.dropna()\n",
    "\n",
    "        # Compute correlation matrix\n",
    "        corr_matrix = dim_data.corr()\n",
    "\n",
    "        # Save correlation matrix\n",
    "        output_path = f'analysis_data/item_correlations/Intra-Scales Dimension/{scale_name}/{dimension_name}_correlation_matrix.xlsx'\n",
    "        os.makedirs(os.path.dirname(output_path), exist_ok=True)\n",
    "        corr_matrix.to_excel(output_path)\n",
    "\n",
    "        print(f\"Saved correlation matrix: {output_path}\")\n",
    "\n",
    "        # Compute Cronbach's alpha\n",
    "        alpha_value, _ = pg.cronbach_alpha(data=dim_data_clean)\n",
    "\n",
    "        # Store alpha result\n",
    "        alpha_results.append({\n",
    "            'Scale': scale_name,\n",
    "            'Dimension': dimension_name,\n",
    "            'Num_Items': len(dimension_items),\n",
    "            'Cronbach_Alpha': round(alpha_value, 4)\n",
    "        })\n",
    "\n",
    "# After loop: save all alpha results to CSV\n",
    "alpha_df = pd.DataFrame(alpha_results)\n",
    "output_alpha_path = 'analysis_data/item_correlations/Cronbach_Alpha_Summary.xlsx'\n",
    "os.makedirs(os.path.dirname(output_alpha_path), exist_ok=True)\n",
    "alpha_df.to_excel(output_alpha_path, index=False)\n",
    "\n",
    "print(f\"Cronbach's alpha summary saved to: {output_alpha_path}\")"
   ]
  }
 ],
 "metadata": {
  "kernelspec": {
   "display_name": "Python (viz-env)",
   "language": "python",
   "name": "viz-env"
  },
  "language_info": {
   "codemirror_mode": {
    "name": "ipython",
    "version": 3
   },
   "file_extension": ".py",
   "mimetype": "text/x-python",
   "name": "python",
   "nbconvert_exporter": "python",
   "pygments_lexer": "ipython3",
   "version": "3.11.12"
  }
 },
 "nbformat": 4,
 "nbformat_minor": 5
}
