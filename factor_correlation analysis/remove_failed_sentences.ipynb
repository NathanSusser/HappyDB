{
 "cells": [
  {
   "cell_type": "code",
   "execution_count": 5,
   "metadata": {},
   "outputs": [],
   "source": [
    "import pandas as pd\n",
    "import json\n",
    "import os\n",
    "import re\n",
    "\n",
    "# Set up file paths\n",
    "os.chdir('/Users/nsusser/Desktop/Github/happyDB/')"
   ]
  },
  {
   "cell_type": "code",
   "execution_count": 6,
   "metadata": {},
   "outputs": [],
   "source": [
    "ratings = pd.read_csv('data/ratings_matrix.csv')\n",
    "failed_responses = pd.read_csv('data/failure/failed_responses5.csv')\n"
   ]
  },
  {
   "cell_type": "code",
   "execution_count": 8,
   "metadata": {},
   "outputs": [],
   "source": [
    "# Assuming ratings and failed_responses DataFrames are already loaded\n",
    "hmid_to_remove = failed_responses[\"hmid\"].unique()\n",
    "\n",
    "# Remove matching rows\n",
    "filtered_ratings = ratings[~ratings[\"hmid\"].isin(hmid_to_remove)]\n",
    "\n",
    "# Save the filtered DataFrame\n",
    "filtered_ratings.to_csv(\"data/filtered_ratings.csv\", index=False)"
   ]
  }
 ],
 "metadata": {
  "kernelspec": {
   "display_name": "openaivenv",
   "language": "python",
   "name": "python3"
  },
  "language_info": {
   "codemirror_mode": {
    "name": "ipython",
    "version": 3
   },
   "file_extension": ".py",
   "mimetype": "text/x-python",
   "name": "python",
   "nbconvert_exporter": "python",
   "pygments_lexer": "ipython3",
   "version": "3.13.1"
  }
 },
 "nbformat": 4,
 "nbformat_minor": 2
}
