{
 "cells": [
  {
   "cell_type": "code",
   "execution_count": null,
   "metadata": {},
   "outputs": [],
   "source": [
    "#IMPORTS\n",
    "\n",
    "#imports\n",
    "import pandas\n",
    "import json\n",
    "import os\n",
    "import re\n",
    "\n",
    "#=========================================\n",
    "\n",
    "#SETUP\n",
    "\n",
    "#set up file paths\n",
    "os.chdir('/Users/nsusser/Desktop/Github/happyDB/')"
   ]
  },
  {
   "cell_type": "code",
   "execution_count": null,
   "metadata": {},
   "outputs": [],
   "source": [
    "#=========================================\n",
    "\n",
    "#LOAD DATA\n",
    "\n",
    "#load ratings and failed responses\n",
    "ratings = pandas.read_csv('data/ratings_matrix.csv')\n",
    "failed_responses = pandas.read_csv('data/failure/failed_responses5.csv')\n"
   ]
  },
  {
   "cell_type": "code",
   "execution_count": null,
   "metadata": {},
   "outputs": [],
   "source": [
    "#=========================================\n",
    "\n",
    "#REMOVE FAILED SENTENCES\n",
    "\n",
    "#get hmids to remove\n",
    "hmid_to_remove = failed_responses[\"hmid\"].unique()\n",
    "\n",
    "#remove matching rows\n",
    "filtered_ratings = ratings[~ratings[\"hmid\"].isin(hmid_to_remove)]\n",
    "\n",
    "#save the filtered dataframe\n",
    "filtered_ratings.to_csv(\"data/filtered_ratings.csv\", index=False)"
   ]
  }
 ],
 "metadata": {
  "kernelspec": {
   "display_name": "openaivenv",
   "language": "python",
   "name": "python3"
  },
  "language_info": {
   "codemirror_mode": {
    "name": "ipython",
    "version": 3
   },
   "file_extension": ".py",
   "mimetype": "text/x-python",
   "name": "python",
   "nbconvert_exporter": "python",
   "pygments_lexer": "ipython3",
   "version": "3.13.1"
  }
 },
 "nbformat": 4,
 "nbformat_minor": 2
}
